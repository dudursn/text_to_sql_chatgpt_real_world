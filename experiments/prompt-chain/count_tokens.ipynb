{
 "cells": [
  {
   "cell_type": "code",
   "execution_count": 1,
   "metadata": {},
   "outputs": [],
   "source": [
    "import json"
   ]
  },
  {
   "cell_type": "code",
   "execution_count": 3,
   "metadata": {},
   "outputs": [],
   "source": [
    "filename = \"queries_mondial_gpt35_100_tokens.json\"\n",
    "with open(filename, 'r') as f:\n",
    "    data = json.load(f)"
   ]
  },
  {
   "cell_type": "code",
   "execution_count": 4,
   "metadata": {},
   "outputs": [
    {
     "name": "stdout",
     "output_type": "stream",
     "text": [
      "Prompt tokens:      907544\n",
      "Completion tokens:   34512\n",
      "Total tokens:       942056\n"
     ]
    }
   ],
   "source": [
    "prompt_tokens = 0\n",
    "completion_tokens = 0\n",
    "total_tokens = 0\n",
    "\n",
    "for key in data:\n",
    "    query = data[key]\n",
    "    if query is not None:\n",
    "        prompt_tokens += query[\"prompt_tokens\"]\n",
    "        completion_tokens += query[\"completion_tokens\"]\n",
    "        total_tokens += query[\"total_tokens\"]\n",
    "\n",
    "print(f\"Prompt tokens:     {prompt_tokens:7d}\")\n",
    "print(f\"Completion tokens: {completion_tokens:7d}\")\n",
    "print(f\"Total tokens:      {total_tokens:7d}\")"
   ]
  },
  {
   "cell_type": "code",
   "execution_count": 5,
   "metadata": {},
   "outputs": [],
   "source": [
    "model = \"gpt-3.5-turbo\"\n",
    "# model = \"gpt-4\"\n",
    "\n",
    "model_costs = {\n",
    "    \"gpt-3.5-turbo\": {\n",
    "        \"prompt\": 0.001 / 1000,\n",
    "        \"completion\": 0.002 / 1000\n",
    "    },\n",
    "    \"gpt-4\": {\n",
    "        \"prompt\": 0.01 / 1000,\n",
    "        \"completion\": 0.03 / 1000\n",
    "    }\n",
    "}\n",
    "\n",
    "pricing = model_costs[model]"
   ]
  },
  {
   "cell_type": "code",
   "execution_count": 6,
   "metadata": {},
   "outputs": [],
   "source": [
    "cost = (prompt_tokens * pricing[\"prompt\"]) + (completion_tokens * pricing[\"completion\"])"
   ]
  },
  {
   "cell_type": "code",
   "execution_count": 7,
   "metadata": {},
   "outputs": [
    {
     "data": {
      "text/plain": [
       "0.840617"
      ]
     },
     "execution_count": 7,
     "metadata": {},
     "output_type": "execute_result"
    }
   ],
   "source": [
    "cost"
   ]
  }
 ],
 "metadata": {
  "kernelspec": {
   "display_name": "gptdanke",
   "language": "python",
   "name": "python3"
  },
  "language_info": {
   "codemirror_mode": {
    "name": "ipython",
    "version": 3
   },
   "file_extension": ".py",
   "mimetype": "text/x-python",
   "name": "python",
   "nbconvert_exporter": "python",
   "pygments_lexer": "ipython3",
   "version": "3.9.17"
  }
 },
 "nbformat": 4,
 "nbformat_minor": 2
}
